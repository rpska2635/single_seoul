{
 "cells": [
  {
   "cell_type": "code",
   "execution_count": 1,
   "metadata": {},
   "outputs": [],
   "source": [
    "from selenium import webdriver\n",
    "import time"
   ]
  },
  {
   "cell_type": "code",
   "execution_count": 2,
   "metadata": {},
   "outputs": [],
   "source": [
    "driver = webdriver.Chrome('../webdriver/chromedriver.exe')"
   ]
  },
  {
   "cell_type": "code",
   "execution_count": 47,
   "metadata": {},
   "outputs": [],
   "source": [
    "# 매매인 경우\n",
    "driver.get(\"http://aptprice.drapt.com/list.php?type=1&si=%BC%AD%BF%EF%C6%AF%BA%B0%BD%C3\")"
   ]
  },
  {
   "cell_type": "code",
   "execution_count": 48,
   "metadata": {},
   "outputs": [
    {
     "data": {
      "text/plain": [
       "25"
      ]
     },
     "execution_count": 48,
     "metadata": {},
     "output_type": "execute_result"
    }
   ],
   "source": [
    "gu_target='#dangiDivArea > ul > li > a'\n",
    "\n",
    "gu_result=driver.find_elements_by_css_selector(gu_target)\n",
    "\n",
    "len(gu_result)"
   ]
  },
  {
   "cell_type": "code",
   "execution_count": 49,
   "metadata": {
    "scrolled": false
   },
   "outputs": [
    {
     "data": {
      "text/plain": [
       "['강남구',\n",
       " '강동구',\n",
       " '강북구',\n",
       " '강서구',\n",
       " '관악구',\n",
       " '광진구',\n",
       " '구로구',\n",
       " '금천구',\n",
       " '노원구',\n",
       " '도봉구',\n",
       " '동대문구',\n",
       " '동작구',\n",
       " '마포구',\n",
       " '서대문구',\n",
       " '서초구',\n",
       " '성동구',\n",
       " '성북구',\n",
       " '송파구',\n",
       " '양천구',\n",
       " '영등포구',\n",
       " '용산구',\n",
       " '은평구',\n",
       " '종로구',\n",
       " '중구',\n",
       " '중랑구']"
      ]
     },
     "execution_count": 49,
     "metadata": {},
     "output_type": "execute_result"
    }
   ],
   "source": [
    "# 구 정보\n",
    "gu_list=[]\n",
    "for i in gu_result:\n",
    "    gu_list.append(i.text)\n",
    "    \n",
    "gu_list"
   ]
  },
  {
   "cell_type": "code",
   "execution_count": 55,
   "metadata": {},
   "outputs": [
    {
     "data": {
      "text/plain": [
       "['1,1',\n",
       " '1,2',\n",
       " '1,3',\n",
       " '1,4',\n",
       " '1,5',\n",
       " '2,1',\n",
       " '2,2',\n",
       " '2,3',\n",
       " '2,4',\n",
       " '2,5',\n",
       " '3,1',\n",
       " '3,2',\n",
       " '3,3',\n",
       " '3,4',\n",
       " '3,5',\n",
       " '4,1',\n",
       " '4,2',\n",
       " '4,3',\n",
       " '4,4',\n",
       " '4,5',\n",
       " '5,1',\n",
       " '5,2',\n",
       " '5,3',\n",
       " '5,4',\n",
       " '5,5']"
      ]
     },
     "execution_count": 55,
     "metadata": {},
     "output_type": "execute_result"
    }
   ],
   "source": [
    "gudong_order_list = []\n",
    "for i in range(1,6):\n",
    "    for j in range(1,6):\n",
    "        gudong_order_list.append(str(i)+\",\"+str(j))\n",
    "gudong_order_list"
   ]
  },
  {
   "cell_type": "code",
   "execution_count": 56,
   "metadata": {},
   "outputs": [
    {
     "name": "stdout",
     "output_type": "stream",
     "text": [
      "0\n"
     ]
    }
   ],
   "source": [
    "name = '강남구'\n",
    "for s in gu_list:\n",
    "    if name in s:\n",
    "        gu_order=gu_list.index(name)\n",
    "        print(gu_order)\n",
    "        break; #하나만 찾으면 뒤는 안 찾음"
   ]
  },
  {
   "cell_type": "code",
   "execution_count": 57,
   "metadata": {
    "scrolled": true
   },
   "outputs": [
    {
     "name": "stdout",
     "output_type": "stream",
     "text": [
      "1 1\n"
     ]
    }
   ],
   "source": [
    "gu_order_result=gudong_order_list[gu_order]\n",
    "gu_ul=gu_order_result.split(\",\")[0]\n",
    "gu_li=gu_order_result.split(\",\")[1]\n",
    "print(gu_ul,gu_li)"
   ]
  },
  {
   "cell_type": "code",
   "execution_count": 59,
   "metadata": {},
   "outputs": [],
   "source": [
    "# 구 클릭\n",
    "# 5개씩 끊긴다 : '강남구'\n",
    "xpath = '//*[@id=\"dangiDivArea\"]/ul['+gu_ul+']/li['+gu_li+']/a'\n",
    "element_sel_gu = driver.find_element_by_xpath(xpath).click()"
   ]
  },
  {
   "cell_type": "markdown",
   "metadata": {},
   "source": [
    "# 동 클릭"
   ]
  },
  {
   "cell_type": "code",
   "execution_count": 60,
   "metadata": {},
   "outputs": [
    {
     "data": {
      "text/plain": [
       "['개포동',\n",
       " '논현동',\n",
       " '대치동',\n",
       " '도곡동',\n",
       " '삼성동',\n",
       " '세곡동',\n",
       " '수서동',\n",
       " '신사동',\n",
       " '압구정동',\n",
       " '역삼동',\n",
       " '율현동',\n",
       " '일원동',\n",
       " '자곡동',\n",
       " '청담동']"
      ]
     },
     "execution_count": 60,
     "metadata": {},
     "output_type": "execute_result"
    }
   ],
   "source": [
    "# 동 정보\n",
    "dong_target='#dangiDivArea > ul > li > a'\n",
    "dong_result=driver.find_elements_by_css_selector(dong_target)\n",
    "\n",
    "dong_list=[]\n",
    "for i in dong_result:\n",
    "    dong_list.append(i.text)\n",
    "    \n",
    "dong_list"
   ]
  },
  {
   "cell_type": "code",
   "execution_count": 62,
   "metadata": {},
   "outputs": [
    {
     "name": "stdout",
     "output_type": "stream",
     "text": [
      "1\n"
     ]
    }
   ],
   "source": [
    "name = '논현동'\n",
    "for s in dong_list:\n",
    "    if name in s:\n",
    "        dong_order=dong_list.index(name)\n",
    "        print(dong_order)\n",
    "        break; #하나만 찾으면 뒤는 안 찾음"
   ]
  },
  {
   "cell_type": "code",
   "execution_count": 63,
   "metadata": {},
   "outputs": [
    {
     "name": "stdout",
     "output_type": "stream",
     "text": [
      "1 2\n"
     ]
    }
   ],
   "source": [
    "dong_order_result=gudong_order_list[dong_order]\n",
    "dong_ul=dong_order_result.split(\",\")[0]\n",
    "dong_li=dong_order_result.split(\",\")[1]\n",
    "print(dong_ul,dong_li)"
   ]
  },
  {
   "cell_type": "code",
   "execution_count": 64,
   "metadata": {},
   "outputs": [],
   "source": [
    "# 동 클릭\n",
    "# 5개씩 끊긴다 : '개포동'\n",
    "xpath = '//*[@id=\"dangiDivArea\"]/ul['+dong_ul+']/li['+dong_li+']/a'\n",
    "element_sel_gu = driver.find_element_by_xpath(xpath).click()"
   ]
  },
  {
   "cell_type": "markdown",
   "metadata": {},
   "source": [
    "# 아파트 클릭"
   ]
  },
  {
   "cell_type": "code",
   "execution_count": 65,
   "metadata": {
    "scrolled": false
   },
   "outputs": [
    {
     "data": {
      "text/plain": [
       "['e-편한세상',\n",
       " '거평프리젠',\n",
       " '경남논현',\n",
       " '경복',\n",
       " '골든캐슬',\n",
       " '그랑디오스',\n",
       " '논현동월드메르디앙',\n",
       " '논현동프라임',\n",
       " '논현동한화꿈에그린',\n",
       " '논현라폴리움',\n",
       " '논현베르빌',\n",
       " '논현빌라트',\n",
       " '논현아트빌',\n",
       " '논현웰스톤',\n",
       " '논현인텔(9-2)',\n",
       " '논현파라곤',\n",
       " '논현프라임아파트',\n",
       " '논현한가람빌라트',\n",
       " '더그레이스',\n",
       " '동부센트레빌',\n",
       " '동양파라곤',\n",
       " '동현아파트 1~6',\n",
       " '두산위브1단지',\n",
       " '두산위브2단지',\n",
       " '두영',\n",
       " '라이헤스빌',\n",
       " '로체샤르캐슬',\n",
       " '리더스빌',\n",
       " '마블하우스',\n",
       " '마일스디오빌',\n",
       " '벨러스빌',\n",
       " '브라운스톤',\n",
       " '비쥬힐',\n",
       " '삼성빌라트',\n",
       " '세호시티라이프',\n",
       " '스위트캐슬레지던스',\n",
       " '신동아',\n",
       " '신동아(22)',\n",
       " '쌍용',\n",
       " '아크로힐스논현',\n",
       " '요진보네르',\n",
       " '우민',\n",
       " '우성',\n",
       " '월드쉐르빌',\n",
       " '은탑리더스카운티',\n",
       " '이산',\n",
       " '이움빌라',\n",
       " '제이빌',\n",
       " '지고하임(101동)',\n",
       " '지고하임(102동)',\n",
       " '청학아파트 에이동,비동,씨동',\n",
       " '케럿스테이트',\n",
       " '케이씨빌',\n",
       " '테크노빌라트',\n",
       " '토미빌(228-9)',\n",
       " '프라임',\n",
       " '학동',\n",
       " '한양빌라트',\n",
       " '한양수자인어반게이트',\n",
       " '한진로즈힐',\n",
       " '한화꿈에그린2차',\n",
       " '현대넥서스 A동',\n",
       " '현대넥서스 B동',\n",
       " '현대인텔렉스',\n",
       " '힐스빌7',\n",
       " '힐타워']"
      ]
     },
     "execution_count": 65,
     "metadata": {},
     "output_type": "execute_result"
    }
   ],
   "source": [
    "# 아파트 정보\n",
    "apt_target='#dangiDivArea > ul > li > a'\n",
    "\n",
    "apt_result=driver.find_elements_by_css_selector(apt_target)\n",
    "\n",
    "apt_list=[]\n",
    "for i in apt_result:\n",
    "    apt_list.append(i.text)\n",
    "    \n",
    "apt_list"
   ]
  },
  {
   "cell_type": "code",
   "execution_count": 66,
   "metadata": {},
   "outputs": [
    {
     "data": {
      "text/plain": [
       "['1,1',\n",
       " '1,2',\n",
       " '1,3',\n",
       " '1,4',\n",
       " '2,1',\n",
       " '2,2',\n",
       " '2,3',\n",
       " '2,4',\n",
       " '3,1',\n",
       " '3,2',\n",
       " '3,3',\n",
       " '3,4',\n",
       " '4,1',\n",
       " '4,2',\n",
       " '4,3',\n",
       " '4,4',\n",
       " '5,1',\n",
       " '5,2',\n",
       " '5,3',\n",
       " '5,4',\n",
       " '6,1',\n",
       " '6,2',\n",
       " '6,3',\n",
       " '6,4',\n",
       " '7,1',\n",
       " '7,2',\n",
       " '7,3',\n",
       " '7,4',\n",
       " '8,1',\n",
       " '8,2',\n",
       " '8,3',\n",
       " '8,4',\n",
       " '9,1',\n",
       " '9,2',\n",
       " '9,3',\n",
       " '9,4',\n",
       " '10,1',\n",
       " '10,2',\n",
       " '10,3',\n",
       " '10,4',\n",
       " '11,1',\n",
       " '11,2',\n",
       " '11,3',\n",
       " '11,4',\n",
       " '12,1',\n",
       " '12,2',\n",
       " '12,3',\n",
       " '12,4',\n",
       " '13,1',\n",
       " '13,2',\n",
       " '13,3',\n",
       " '13,4',\n",
       " '14,1',\n",
       " '14,2',\n",
       " '14,3',\n",
       " '14,4',\n",
       " '15,1',\n",
       " '15,2',\n",
       " '15,3',\n",
       " '15,4',\n",
       " '16,1',\n",
       " '16,2',\n",
       " '16,3',\n",
       " '16,4',\n",
       " '17,1',\n",
       " '17,2',\n",
       " '17,3',\n",
       " '17,4',\n",
       " '18,1',\n",
       " '18,2',\n",
       " '18,3',\n",
       " '18,4',\n",
       " '19,1',\n",
       " '19,2',\n",
       " '19,3',\n",
       " '19,4']"
      ]
     },
     "execution_count": 66,
     "metadata": {},
     "output_type": "execute_result"
    }
   ],
   "source": [
    "apt_order_list = []\n",
    "for i in range(1,20):\n",
    "    for j in range(1,5):\n",
    "        apt_order_list.append(str(i)+\",\"+str(j))\n",
    "apt_order_list"
   ]
  },
  {
   "cell_type": "code",
   "execution_count": 79,
   "metadata": {},
   "outputs": [
    {
     "name": "stdout",
     "output_type": "stream",
     "text": [
      "2\n"
     ]
    }
   ],
   "source": [
    "name = '경남논현'\n",
    "for s in apt_list:\n",
    "    if name in s:\n",
    "        apt_order=apt_list.index(name)\n",
    "        print(apt_order)\n",
    "        break; #하나만 찾으면 뒤는 안 찾음"
   ]
  },
  {
   "cell_type": "code",
   "execution_count": 80,
   "metadata": {},
   "outputs": [
    {
     "name": "stdout",
     "output_type": "stream",
     "text": [
      "1 3\n"
     ]
    }
   ],
   "source": [
    "apt_order_result=apt_order_list[apt_order]\n",
    "apt_ul=apt_order_result.split(\",\")[0]\n",
    "apt_li=apt_order_result.split(\",\")[1]\n",
    "print(apt_ul,apt_li)"
   ]
  },
  {
   "cell_type": "code",
   "execution_count": 81,
   "metadata": {},
   "outputs": [],
   "source": [
    "# 아파트 클릭\n",
    "# 4개씩 끊긴다 : '개포주공 1단지'\n",
    "xpath = '//*[@id=\"dangiDivArea\"]/ul['+apt_ul+']/li['+apt_li+']/a'\n",
    "element_sel_gu = driver.find_element_by_xpath(xpath).click()"
   ]
  },
  {
   "cell_type": "code",
   "execution_count": 82,
   "metadata": {},
   "outputs": [],
   "source": [
    "import requests\n",
    "from bs4 import BeautifulSoup\n",
    "from fake_useragent import UserAgent\n",
    "import scrapy,response"
   ]
  },
  {
   "cell_type": "code",
   "execution_count": 83,
   "metadata": {},
   "outputs": [
    {
     "name": "stdout",
     "output_type": "stream",
     "text": [
      "http://aptprice.drapt.com/list.php?type=1&si=%BC%AD%BF%EF%C6%AF%BA%B0%BD%C3&gu=%B0%AD%B3%B2%B1%B8&dong=%B3%ED%C7%F6%B5%BF&aptcode=1267\n"
     ]
    }
   ],
   "source": [
    "cur_url = driver.current_url\n",
    "print (cur_url)"
   ]
  },
  {
   "cell_type": "code",
   "execution_count": 84,
   "metadata": {},
   "outputs": [
    {
     "name": "stdout",
     "output_type": "stream",
     "text": [
      "<td class=\"center\"><span class=\"ffth\">60</span></td>\n",
      "<td class=\"center\"><span class=\"ffth\">2018</span></td>\n",
      "<td class=\"center\"><span class=\"ffth\">10</span></td>\n",
      "<td class=\"center\"><span class=\"ffth\">10.11~10.20</span></td>\n",
      "<td class=\"center\"><span class=\"ffth\">79,500</span></td>\n",
      "<td class=\"center\"><span class=\"ffth\">1</span></td>\n",
      "\n",
      "\n",
      "<td class=\"center\"><span class=\"ffth\">60</span></td>\n",
      "<td class=\"center\"><span class=\"ffth\">2017</span></td>\n",
      "<td class=\"center\"><span class=\"ffth\">10</span></td>\n",
      "<td class=\"center\"><span class=\"ffth\">10.11~10.20</span></td>\n",
      "<td class=\"center\"><span class=\"ffth\">60,000</span></td>\n",
      "<td class=\"center\"><span class=\"ffth\">3</span></td>\n",
      "\n",
      "\n",
      "<td class=\"center\"><span class=\"ffth\">84</span></td>\n",
      "<td class=\"center\"><span class=\"ffth\">2017</span></td>\n",
      "<td class=\"center\"><span class=\"ffth\">5</span></td>\n",
      "<td class=\"center\"><span class=\"ffth\">5.21~5.31</span></td>\n",
      "<td class=\"center\"><span class=\"ffth\">73,500</span></td>\n",
      "<td class=\"center\"><span class=\"ffth\">5</span></td>\n",
      "\n",
      "\n",
      "<td class=\"center\"><span class=\"ffth\">60</span></td>\n",
      "<td class=\"center\"><span class=\"ffth\">2017</span></td>\n",
      "<td class=\"center\"><span class=\"ffth\">5</span></td>\n",
      "<td class=\"center\"><span class=\"ffth\">5.21~5.31</span></td>\n",
      "<td class=\"center\"><span class=\"ffth\">58,850</span></td>\n",
      "<td class=\"center\"><span class=\"ffth\">2</span></td>\n",
      "\n",
      "\n",
      "<td class=\"center\"><span class=\"ffth\">60</span></td>\n",
      "<td class=\"center\"><span class=\"ffth\">2017</span></td>\n",
      "<td class=\"center\"><span class=\"ffth\">2</span></td>\n",
      "<td class=\"center\"><span class=\"ffth\">2.21~2.28</span></td>\n",
      "<td class=\"center\"><span class=\"ffth\">54,000</span></td>\n",
      "<td class=\"center\"><span class=\"ffth\">8</span></td>\n",
      "\n",
      "\n",
      "<td class=\"center\"><span class=\"ffth\">85</span></td>\n",
      "<td class=\"center\"><span class=\"ffth\">2016</span></td>\n",
      "<td class=\"center\"><span class=\"ffth\">11</span></td>\n",
      "<td class=\"center\"><span class=\"ffth\">11.21~11.30</span></td>\n",
      "<td class=\"center\"><span class=\"ffth\">60,000</span></td>\n",
      "<td class=\"center\"><span class=\"ffth\">7</span></td>\n",
      "\n",
      "\n",
      "<td class=\"center\"><span class=\"ffth\">85</span></td>\n",
      "<td class=\"center\"><span class=\"ffth\">2016</span></td>\n",
      "<td class=\"center\"><span class=\"ffth\">10</span></td>\n",
      "<td class=\"center\"><span class=\"ffth\">10.1~10.10</span></td>\n",
      "<td class=\"center\"><span class=\"ffth\">69,500</span></td>\n",
      "<td class=\"center\"><span class=\"ffth\">7</span></td>\n",
      "\n",
      "\n",
      "<td class=\"center\"><span class=\"ffth\">60</span></td>\n",
      "<td class=\"center\"><span class=\"ffth\">2016</span></td>\n",
      "<td class=\"center\"><span class=\"ffth\">6</span></td>\n",
      "<td class=\"center\"><span class=\"ffth\">6.1~6.10</span></td>\n",
      "<td class=\"center\"><span class=\"ffth\">55,000</span></td>\n",
      "<td class=\"center\"><span class=\"ffth\">4</span></td>\n",
      "\n",
      "\n",
      "<td class=\"center\"><span class=\"ffth\">115</span></td>\n",
      "<td class=\"center\"><span class=\"ffth\">2016</span></td>\n",
      "<td class=\"center\"><span class=\"ffth\">6</span></td>\n",
      "<td class=\"center\"><span class=\"ffth\">6.11~6.20</span></td>\n",
      "<td class=\"center\"><span class=\"ffth\">76,000</span></td>\n",
      "<td class=\"center\"><span class=\"ffth\">2</span></td>\n",
      "\n",
      "\n",
      "<td class=\"center\"><span class=\"ffth\">85</span></td>\n",
      "<td class=\"center\"><span class=\"ffth\">2016</span></td>\n",
      "<td class=\"center\"><span class=\"ffth\">1</span></td>\n",
      "<td class=\"center\"><span class=\"ffth\">1.21~1.31</span></td>\n",
      "<td class=\"center\"><span class=\"ffth\">63,000</span></td>\n",
      "<td class=\"center\"><span class=\"ffth\">2</span></td>\n",
      "\n",
      "\n",
      "<td class=\"center\"><span class=\"ffth\">115</span></td>\n",
      "<td class=\"center\"><span class=\"ffth\">2015</span></td>\n",
      "<td class=\"center\"><span class=\"ffth\">7</span></td>\n",
      "<td class=\"center\"><span class=\"ffth\">7.1~7.10</span></td>\n",
      "<td class=\"center\"><span class=\"ffth\">73,500</span></td>\n",
      "<td class=\"center\"><span class=\"ffth\">6</span></td>\n",
      "\n",
      "\n",
      "<td class=\"center\"><span class=\"ffth\">60</span></td>\n",
      "<td class=\"center\"><span class=\"ffth\">2015</span></td>\n",
      "<td class=\"center\"><span class=\"ffth\">7</span></td>\n",
      "<td class=\"center\"><span class=\"ffth\">7.1~7.10</span></td>\n",
      "<td class=\"center\"><span class=\"ffth\">52,000</span></td>\n",
      "<td class=\"center\"><span class=\"ffth\">1</span></td>\n",
      "\n",
      "\n",
      "<td class=\"center\"><span class=\"ffth\">60</span></td>\n",
      "<td class=\"center\"><span class=\"ffth\">2015</span></td>\n",
      "<td class=\"center\"><span class=\"ffth\">4</span></td>\n",
      "<td class=\"center\"><span class=\"ffth\">4.1~4.10</span></td>\n",
      "<td class=\"center\"><span class=\"ffth\">48,300</span></td>\n",
      "<td class=\"center\"><span class=\"ffth\">4</span></td>\n",
      "\n",
      "\n",
      "<td class=\"center\"><span class=\"ffth\">85</span></td>\n",
      "<td class=\"center\"><span class=\"ffth\">2015</span></td>\n",
      "<td class=\"center\"><span class=\"ffth\">2</span></td>\n",
      "<td class=\"center\"><span class=\"ffth\">2.21~2.28</span></td>\n",
      "<td class=\"center\"><span class=\"ffth\">65,000</span></td>\n",
      "<td class=\"center\"><span class=\"ffth\">6</span></td>\n",
      "\n",
      "\n",
      "60\n"
     ]
    }
   ],
   "source": [
    "\n",
    "# 헤더 선언\n",
    "headers = {\n",
    "    'User-Agent': UserAgent().ie\n",
    "}\n",
    "\n",
    "# get data from target end point\n",
    "res = requests.get(cur_url, headers=headers)\n",
    "\n",
    "# make soup object(make a parsable object)\n",
    "soup = BeautifulSoup(res.text, 'html.parser')\n",
    "two_anchor = soup.select(\n",
    "    # 테이블 15개 정보 출력\n",
    "    'body > div.silgera_box_1 > div > div.silgera_content > table > tbody > tr:nth-child(-n+16) > td')\n",
    "        \n",
    "        \n",
    "for i in range(0,84):\n",
    "    print(two_anchor[i])\n",
    "    if((i+1)%6==0):\n",
    "        print('\\n')\n",
    "    \n",
    "\n",
    "print(two_anchor[0].string)\n"
   ]
  }
 ],
 "metadata": {
  "kernelspec": {
   "display_name": "Python 3",
   "language": "python",
   "name": "python3"
  },
  "language_info": {
   "codemirror_mode": {
    "name": "ipython",
    "version": 3
   },
   "file_extension": ".py",
   "mimetype": "text/x-python",
   "name": "python",
   "nbconvert_exporter": "python",
   "pygments_lexer": "ipython3",
   "version": "3.7.3"
  }
 },
 "nbformat": 4,
 "nbformat_minor": 2
}
